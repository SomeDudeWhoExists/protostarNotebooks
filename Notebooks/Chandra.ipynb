{
 "cells": [
  {
   "cell_type": "code",
   "execution_count": 7,
   "id": "c0546dcc-dc40-43e5-93ca-9b8c8f57c375",
   "metadata": {},
   "outputs": [],
   "source": [
    "import numpy as np\n",
    "\n",
    "from matplotlib import pyplot as plt\n",
    "import matplotlib\n",
    "\n",
    "import astropy\n",
    "import pyvo as vo\n",
    "\n",
    "import scipy\n",
    "\n",
    "%matplotlib inline"
   ]
  },
  {
   "cell_type": "code",
   "execution_count": 9,
   "id": "feb0a7c1-cebe-4b39-8fdb-73511a603fae",
   "metadata": {},
   "outputs": [],
   "source": [
    "from astropy.coordinates import SkyCoord\n",
    "from astropy import units as u\n",
    "\n",
    "# example\n",
    "m33 = SkyCoord.from_name('M33')\n",
    "maxrad = 1.0*u.deg"
   ]
  },
  {
   "cell_type": "code",
   "execution_count": 14,
   "id": "8a935dfd-daf2-4589-96ba-fa89a1af127d",
   "metadata": {},
   "outputs": [],
   "source": [
    "cone = vo.dal.SCSService('https://cda.cfa.harvard.edu/csc21scs/coneSearch')\n",
    "# help(cone.search) -> how to use cone search tool\n",
    "# Stuff at the master level"
   ]
  },
  {
   "cell_type": "code",
   "execution_count": null,
   "id": "b747f18c-fcd8-4309-a933-44216643daf9",
   "metadata": {},
   "outputs": [],
   "source": []
  }
 ],
 "metadata": {
  "kernelspec": {
   "display_name": "Python 3 (ipykernel)",
   "language": "python",
   "name": "python3"
  },
  "language_info": {
   "codemirror_mode": {
    "name": "ipython",
    "version": 3
   },
   "file_extension": ".py",
   "mimetype": "text/x-python",
   "name": "python",
   "nbconvert_exporter": "python",
   "pygments_lexer": "ipython3",
   "version": "3.11.6"
  }
 },
 "nbformat": 4,
 "nbformat_minor": 5
}
