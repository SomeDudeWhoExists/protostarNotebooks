{
 "cells": [
  {
   "cell_type": "markdown",
   "id": "d8a28810-f196-44dd-94ae-1a3256203204",
   "metadata": {},
   "source": [
    "## **Definitions**"
   ]
  },
  {
   "cell_type": "markdown",
   "id": "26bf910f-30d2-4f31-b4c3-534e72356ba6",
   "metadata": {},
   "source": [
    "W1, W2,... : the magnitude of the frequency of light being detected > mag\n",
    "\n",
    "W1: 3.4μm | W2: 4.6μm | W3: 12μm | W4: 22μm | ra: deg | dec: deg\n",
    "\n",
    "mag = -2.5 * log10(flux) + constant\n",
    "\n",
    "Flux is W/m^2/Hz -> energy received per square meter per unit time in a certain frequency (ie, 3.4μm)."
   ]
  },
  {
   "cell_type": "markdown",
   "id": "34317193-a0ea-4346-a288-a2fc076f0a08",
   "metadata": {},
   "source": [
    "<hr style=\"border: 6px solid black;\">"
   ]
  },
  {
   "cell_type": "markdown",
   "id": "d070dbd7-6b88-4488-95f9-b22cf94d8301",
   "metadata": {},
   "source": [
    "### **Main**"
   ]
  },
  {
   "cell_type": "code",
   "execution_count": 11,
   "id": "d2db703e-88ae-4005-9049-e2cd4210d835",
   "metadata": {},
   "outputs": [
    {
     "name": "stdout",
     "output_type": "stream",
     "text": [
      "Memory (MB): 156.53515625\n",
      "Memory (MB): 157.62109375\n",
      "Memory (MB): 157.87890625\n",
      "Memory (MB): 157.87890625\n",
      "Memory (MB): 157.87890625\n",
      "Memory (MB): 157.87890625\n",
      "Memory (MB): 157.87890625\n"
     ]
    }
   ],
   "source": [
    "import requests\n",
    "import bz2\n",
    "import matplotlib.pyplot as plt\n",
    "import numpy as np\n",
    "import threading\n",
    "import time\n",
    "import os\n",
    "import psutil\n",
    "\n",
    "def print_memory_usage():\n",
    "    process = psutil.Process(os.getpid())\n",
    "    while True:\n",
    "        print(\"Memory (MB):\", process.memory_info().rss / 1024 / 1024)\n",
    "        time.sleep(45)\n",
    "\n",
    "# Start the background thread\n",
    "memory_thread = threading.Thread(target=print_memory_usage, daemon=True)\n",
    "memory_thread.start()\n",
    "\n",
    "#### Memory usage tracking\n",
    "\n",
    "max_lines_per_file = 200 # defines the amount of lines to be parsed per file\n",
    "\n",
    "def stream_filter_wise(url, max_lines): #defines function with params of url and max_lines; max_lines used later\n",
    "    decompressor = bz2.BZ2Decompressor() #decompressor\n",
    "    buffer = b\"\" #buffer, which holds the decompressed bytes\n",
    "    line_count = 0 #tracks the number of lines parsed so far\n",
    "\n",
    "    response = requests.get(url, stream=True) #streams the data from the bz2 file\n",
    "    response.raise_for_status() #doesnt matter\n",
    "\n",
    "    for chunk in response.iter_content(chunk_size=1024*1024): #takes 1MB 'chunks' from the bz2 file at a time\n",
    "        buffer += decompressor.decompress(chunk) #chunk is decompressed and added to the buffer in byte form\n",
    "        lines = buffer.split(b\"\\n\")#since the data is already formatted in list form, we can simply split it using \\n to create individual rows\n",
    "        buffer = lines.pop()#assuming the last line is incomplete, the last line is removed\n",
    "\n",
    "        for line in lines: #iterates through each line stored in list 'lines'\n",
    "            if not line.strip(): #line.strip() returns a value of True when there is simply whitespace, skipping over that entire line thanks to continue\n",
    "                continue\n",
    "            fields = line.decode('utf-8').split('|') # turns the data in format : a|b|c|...|z to [a,b,c,...,z]\n",
    "            line_count += 1 #tells us that we have iterated through one line, aka one row of data\n",
    "            if max_lines and line_count > max_lines: #stops when we have reached the max line count\n",
    "                return #ends early\n",
    "                \n",
    "            try:\n",
    "                W3 = float(fields[24])\n",
    "                W4 = float(fields[28])\n",
    "                pmra = float(fields[45]) # apparent movement in ra to identify moving objects\n",
    "                pmdec = float(fields[47]) # apparent movement in dec to identify moving objects\n",
    "                \n",
    "            except (IndexError, ValueError): # handles any errors in case the value is not a float, but null or a string\n",
    "                continue\n",
    "\n",
    "            condt = (W3 - W4 > 1.0) and (W4 < 12) and (W3 < 13) and (abs(pmra)<0.2) and (abs(pmdec)<0.2)\n",
    "            \n",
    "            if condt: #filters specifically for what is needed\n",
    "                yield W3 - W4, W4  # yields just what is needed to plot the graph\n",
    "                # yield is much more efficient for a large data set--so return is not used\n",
    "\n",
    "def process_multiple_files(url_list, max_lines_per_file): # function with parameter url_list (for the multitude of urls) and max_lines_per_file\n",
    "    for url in url_list: #goes through each URL, calls the stream_filter_wise function, yielding the data needed (W3-W4&W4)\n",
    "        yield from stream_filter_wise(url, max_lines=max_lines_per_file)\n",
    "\n",
    "urls = []\n",
    "\n",
    "for i in range(48):\n",
    "    urls.append(\"https://irsa.ipac.caltech.edu/data/download/wise-allwise/wise-allwise-cat-part\" + f\"{i+1:02d}\" + \".bz2\")\n",
    "\n",
    "# Collect only plot values, not full rows\n",
    "color_vals = []\n",
    "mag_vals = []\n",
    "\n",
    "for color, w4 in process_multiple_files(urls, max_lines_per_file): \n",
    "    color_vals.append(color)\n",
    "    mag_vals.append(w4)\n",
    "\n",
    "\"\"\"\n",
    "since the line \"yield W3 - W4, W4\" yields a tuple in the form (W3-W4,W4), and the fact that the function \"process_multiple_files()\" returns that tuple,\n",
    "the value for color is defined by W3-W4 (the first value of the tuple), and w4 is defined by W4 (the second value of the tuple). \n",
    "\"\"\"\n",
    "\n",
    "color_vals = np.array(color_vals) #stored in numpy array for memory purposes\n",
    "mag_vals = np.array(mag_vals)"
   ]
  },
  {
   "cell_type": "markdown",
   "id": "21cbad7b-fb63-454b-ace9-1f74c1dc22ec",
   "metadata": {},
   "source": [
    "## **Graphing**"
   ]
  },
  {
   "cell_type": "markdown",
   "id": "56cb1113-c1e3-47d7-806e-998ab3d86226",
   "metadata": {},
   "source": [
    "### Emission Range Plot"
   ]
  },
  {
   "cell_type": "markdown",
   "id": "ec996759-40db-414a-b185-8b519ff8baca",
   "metadata": {},
   "source": [
    "\n",
    "$$\n",
    "\\begin{align}\n",
    "W3 = -2.5\\log_{10}(\\text{Flux}_{1}) \\text{   |   } W4 = -2.5\\log_{10}(\\text{Flux}_{2}) \\\\ \\\\\n",
    "\\Delta \\text{Magnitude} = W3 - W4 \\\\ \\\\\n",
    "\\Delta \\text{Magnitude} = -2.5\\log_{10}(\\text{Flux}_{1}) + 2.5 \\log_{10}(\\text{flux}_{2}) \\\\ \\\\\n",
    "        = -2.5 \\log_{10}\\left( \\frac{\\text{Flux}_{1}}{\\text{Flux}_{2}} \\right)\n",
    "\\end{align}\n",
    "$$\n",
    "\n",
    "#### We then compare this value to W4 in a plot. \n",
    "\n",
    "#### Longer wavelength -> redder\n",
    "\n",
    "#### Since protostars and young stars mainly radiate in the far right infrared wavelength (due to the massive amounts of warm dust surrounding the star), we search for sources with a value of $\\Delta \\text{Magnitude} > 0$ indicating higher emissions in the 22μm range. "
   ]
  },
  {
   "cell_type": "code",
   "execution_count": 12,
   "id": "86f91677-6410-486c-9467-036f4bcc05c3",
   "metadata": {},
   "outputs": [
    {
     "data": {
      "image/png": "[encoded data removed]",
      "text/plain": [
       "<Figure size 640x480 with 1 Axes>"
      ]
     },
     "metadata": {},
     "output_type": "display_data"
    }
   ],
   "source": [
    "import matplotlib.pyplot as plt\n",
    "\n",
    "# plot\n",
    "#plt.figure(figsize=(7, 6))\n",
    "plt.autoscale()\n",
    "plt.scatter(color_vals, mag_vals, s=3, alpha=1, color='crimson')\n",
    "plt.xlabel(r\"$\\Delta \\text{Magnitude}$\",fontsize='large')\n",
    "plt.ylabel(r\"W4 (mag)\", fontsize='large')\n",
    "plt.title(\"Filtered W4 vs Colored Index Graph\")\n",
    "plt.gca().invert_yaxis()\n",
    "plt.grid(True)\n",
    "plt.tight_layout()\n",
    "plt.show()"
   ]
  },
  {
   "cell_type": "markdown",
   "id": "1f7b0366-7b8a-4866-8e6b-cbbcf60a8f6a",
   "metadata": {},
   "source": [
    "#### Since mag is inversely related to the brightness, a low or negative magnitude indicates an incredible high brightness, and a high magnitude indicates a low brightness. \n",
    "\n",
    "#### A large $\\Delta\\text{Magnitude}$ value means that W3≫W4, meaning W3 is much fainter than W4, indicating high 22micrometer emissions. "
   ]
  },
  {
   "cell_type": "markdown",
   "id": "7a557c48-e847-4a59-92d1-61c5808cb2da",
   "metadata": {
    "jp-MarkdownHeadingCollapsed": true
   },
   "source": [
    "## **Astroquery**"
   ]
  },
  {
   "cell_type": "code",
   "execution_count": 52,
   "id": "b50030b9-230b-41db-bac8-b84474a9dcc3",
   "metadata": {},
   "outputs": [
    {
     "data": {
      "text/html": [
       "<div><i>QTable length=10</i>\n",
       "<table id=\"table140433785411920\" class=\"table-striped table-bordered table-condensed\">\n",
       "<thead><tr><th>ra</th><th>dec</th><th>w1mpro</th><th>w2mpro</th></tr></thead>\n",
       "<thead><tr><th>deg</th><th>deg</th><th>mag</th><th>mag</th></tr></thead>\n",
       "<thead><tr><th>float64</th><th>float64</th><th>float32</th><th>float32</th></tr></thead>\n",
       "<tr><td>203.8283326</td><td>-63.8488313</td><td>8.984</td><td>9.064</td></tr>\n",
       "<tr><td>204.0982457</td><td>-63.3819488</td><td>9.454</td><td>9.595</td></tr>\n",
       "<tr><td>204.4178513</td><td>-63.1786379</td><td>8.367</td><td>8.474</td></tr>\n",
       "<tr><td>203.7288487</td><td>-63.4397686</td><td>11.325</td><td>11.357</td></tr>\n",
       "<tr><td>204.1432090</td><td>-63.1583459</td><td>11.752</td><td>11.877</td></tr>\n",
       "<tr><td>203.8450181</td><td>-63.2542782</td><td>12.076</td><td>12.093</td></tr>\n",
       "<tr><td>204.1056584</td><td>-63.3475865</td><td>11.081</td><td>11.312</td></tr>\n",
       "<tr><td>204.2054638</td><td>-63.1664894</td><td>12.705</td><td>12.998</td></tr>\n",
       "<tr><td>205.4313254</td><td>-63.4605279</td><td>10.365</td><td>10.387</td></tr>\n",
       "<tr><td>205.3824401</td><td>-63.4706214</td><td>11.122</td><td>11.252</td></tr>\n",
       "</table></div>"
      ],
      "text/plain": [
       "<QTable length=10>\n",
       "     ra         dec      w1mpro  w2mpro\n",
       "    deg         deg       mag     mag  \n",
       "  float64     float64   float32 float32\n",
       "----------- ----------- ------- -------\n",
       "203.8283326 -63.8488313   8.984   9.064\n",
       "204.0982457 -63.3819488   9.454   9.595\n",
       "204.4178513 -63.1786379   8.367   8.474\n",
       "203.7288487 -63.4397686  11.325  11.357\n",
       "204.1432090 -63.1583459  11.752  11.877\n",
       "203.8450181 -63.2542782  12.076  12.093\n",
       "204.1056584 -63.3475865  11.081  11.312\n",
       "204.2054638 -63.1664894  12.705  12.998\n",
       "205.4313254 -63.4605279  10.365  10.387\n",
       "205.3824401 -63.4706214  11.122  11.252"
      ]
     },
     "execution_count": 52,
     "metadata": {},
     "output_type": "execute_result"
    }
   ],
   "source": [
    "from astroquery.ipac.irsa import Irsa\n",
    "\n",
    "query = \"SELECT TOP 10 ra,dec,w1mpro,w2mpro FROM allwise_p3as_psd\" \n",
    "results = Irsa.query_tap(query=query).to_qtable()\n",
    "results"
   ]
  }
 ],
 "metadata": {
  "kernelspec": {
   "display_name": "Python 3 (ipykernel)",
   "language": "python",
   "name": "python3"
  },
  "language_info": {
   "codemirror_mode": {
    "name": "ipython",
    "version": 3
   },
   "file_extension": ".py",
   "mimetype": "text/x-python",
   "name": "python",
   "nbconvert_exporter": "python",
   "pygments_lexer": "ipython3",
   "version": "3.11.6"
  }
 },
 "nbformat": 4,
 "nbformat_minor": 5
}
