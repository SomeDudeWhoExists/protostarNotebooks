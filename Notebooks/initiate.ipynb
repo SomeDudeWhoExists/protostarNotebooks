{
 "cells": [
  {
   "cell_type": "code",
   "execution_count": 4,
   "id": "e761c30b-f849-4a10-a6fe-e0a3315782b2",
   "metadata": {},
   "outputs": [],
   "source": [
    "import pandas as pd\n",
    "from astropy.io import fits\n",
    "import matplotlib.pyplot as plt\n",
    "import numpy as np\n",
    "from photutils.detection import DAOStarFinder\n",
    "from astropy.stats import sigma_clipped_stats\n",
    "from photutils.segmentation import detect_sources\n",
    "from astropy.convolution import Gaussian2DKernel\n",
    "import requests\n",
    "import zipfile\n",
    "import io\n",
    "import os\n",
    "from astropy.coordinates import SkyCoord\n",
    "import astropy.units as u\n",
    "import astroquery\n",
    "from astropy.table import Table\n",
    "import shutil\n",
    "import time"
   ]
  }
 ],
 "metadata": {
  "kernelspec": {
   "display_name": "Python 3 (ipykernel)",
   "language": "python",
   "name": "python3"
  },
  "language_info": {
   "codemirror_mode": {
    "name": "ipython",
    "version": 3
   },
   "file_extension": ".py",
   "mimetype": "text/x-python",
   "name": "python",
   "nbconvert_exporter": "python",
   "pygments_lexer": "ipython3",
   "version": "3.11.6"
  }
 },
 "nbformat": 4,
 "nbformat_minor": 5
}
