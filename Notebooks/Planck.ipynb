{
 "cells": [
  {
   "cell_type": "code",
   "execution_count": 1,
   "id": "3a70d7d6-c90e-4909-a8f8-e424b85aef1a",
   "metadata": {},
   "outputs": [],
   "source": [
    "# Planck 857 I\n",
    "# Planck 545 I"
   ]
  },
  {
   "cell_type": "code",
   "execution_count": 10,
   "id": "fc60d6a9-e5a5-4364-8109-75055882fbc4",
   "metadata": {},
   "outputs": [],
   "source": []
  }
 ],
 "metadata": {
  "kernelspec": {
   "display_name": "Python 3 (ipykernel)",
   "language": "python",
   "name": "python3"
  },
  "language_info": {
   "codemirror_mode": {
    "name": "ipython",
    "version": 3
   },
   "file_extension": ".py",
   "mimetype": "text/x-python",
   "name": "python",
   "nbconvert_exporter": "python",
   "pygments_lexer": "ipython3",
   "version": "3.11.6"
  }
 },
 "nbformat": 4,
 "nbformat_minor": 5
}
