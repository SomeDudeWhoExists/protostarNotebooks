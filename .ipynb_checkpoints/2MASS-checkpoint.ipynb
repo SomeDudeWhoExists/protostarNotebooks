{
 "cells": [
  {
   "cell_type": "code",
   "execution_count": 2,
   "id": "3a70d7d6-c90e-4909-a8f8-e424b85aef1a",
   "metadata": {},
   "outputs": [
    {
     "name": "stdout",
     "output_type": "stream",
     "text": [
      "    ra        dec     j_m   j_msigcom  h_m   ...  k_m   k_msigcom ph_qual cc_flg\n",
      "   deg        deg     mag      mag     mag   ...  mag      mag                  \n",
      "---------- --------- ------ --------- ------ ... ------ --------- ------- ------\n",
      "202.900750 46.961285 16.168     0.096 15.581 ... 15.180     0.158     ABC    000\n",
      "202.951614 47.024986 15.773     0.072 15.436 ... 15.541     0.234     ABD    000\n",
      "202.922589 47.024452 14.628     0.032 14.188 ... 14.036     0.059     AAA    000\n",
      "202.911833 47.011093 13.948     0.025 13.412 ... 13.318     0.036     AAA    000\n",
      "202.925932 47.004223 16.461     0.131 15.970 ... 17.007        --     BCU    000\n",
      "202.515450 46.929302 15.967     0.088 15.285 ... 15.077     0.140     AAB    000\n",
      "202.532240 46.931587 16.575     0.145 16.251 ... 15.888        --     BDU    000\n",
      "202.607930 46.932255 16.658     0.147 15.854 ... 15.430     0.193     BUC    000\n",
      "202.823902 47.011593 16.555     0.143 15.710 ... 16.136        --     BBU    000\n",
      "       ...       ...    ...       ...    ... ...    ...       ...     ...    ...\n",
      "202.073558 47.473503 16.402     0.142 15.967 ... 15.465     0.230     BCD    000\n",
      "202.057425 47.489326 15.682     0.080 15.308 ... 15.233     0.194     ABC    000\n",
      "202.011931 47.468540 15.544     0.068 15.104 ... 14.927     0.143     AAB    000\n",
      "201.971808 47.342934 16.579     0.166 15.714 ... 14.849        --     CCU    000\n",
      "201.953797 47.295887 18.527        -- 15.519 ... 16.888        --     UBU    000\n",
      "201.950370 47.356930  9.751     0.019  9.509 ...  9.468     0.018     AAA    000\n",
      "201.917430 47.284973 16.939     0.157 15.989 ... 15.891     0.220     CBD    000\n",
      "201.953559 47.341888 18.496        -- 15.317 ... 16.944        --     UBU    000\n",
      "201.954000 47.318901 18.533        -- 15.360 ... 16.870        --     UBU    000\n",
      "201.916968 47.318008 15.943     0.092 15.253 ... 14.601     0.107     AAA    000\n",
      "Length = 695 rows\n"
     ]
    }
   ],
   "source": [
    "import pyvo\n",
    "service = pyvo.dal.TAPService('https://irsa.ipac.caltech.edu/TAP')\n",
    "result = service.run_async(\"\"\"\n",
    "           SELECT ra,dec,j_m,j_msigcom,h_m,h_msigcom,k_m,k_msigcom,ph_qual,cc_flg\n",
    "           FROM fp_psc\n",
    "           WHERE CONTAINS(POINT('ICRS',ra, dec), CIRCLE('ICRS',202.48417,47.23056,0.4))=1\n",
    "    \"\"\")\n",
    "tab = result.to_table()\n",
    "\n",
    "print(tab)"
   ]
  },
  {
   "cell_type": "code",
   "execution_count": 10,
   "id": "fc60d6a9-e5a5-4364-8109-75055882fbc4",
   "metadata": {},
   "outputs": [],
   "source": [
    "url =  \"https://irsa.ipac.caltech.edu/ibe/data/twomass/allsky/allsky/{ordate:6d}{hemisphere:1s}/s{scanno:03d}/image/{fname:20s}\""
   ]
  }
 ],
 "metadata": {
  "kernelspec": {
   "display_name": "Python 3 (ipykernel)",
   "language": "python",
   "name": "python3"
  },
  "language_info": {
   "codemirror_mode": {
    "name": "ipython",
    "version": 3
   },
   "file_extension": ".py",
   "mimetype": "text/x-python",
   "name": "python",
   "nbconvert_exporter": "python",
   "pygments_lexer": "ipython3",
   "version": "3.11.6"
  }
 },
 "nbformat": 4,
 "nbformat_minor": 5
}
